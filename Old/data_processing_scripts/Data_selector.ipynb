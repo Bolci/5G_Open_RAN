{
 "cells": [
  {
   "cell_type": "code",
   "execution_count": 1,
   "id": "cd243b60-1fa3-4e8a-9dd8-0b1b258bbae8",
   "metadata": {},
   "outputs": [],
   "source": [
    "import os\n",
    "import shutil\n",
    "import scipy\n",
    "import numpy as np"
   ]
  },
  {
   "cell_type": "code",
   "execution_count": 2,
   "id": "1bf2c2be-d4fc-4c52-817b-1710ff0673a6",
   "metadata": {},
   "outputs": [],
   "source": [
    "all_data_path = \"F:\\\\Projekty\\\\5g_OPEN_RAN\\\\Data_long_term\\\\meas\"\n",
    "selection_path = \"F:\\\\Projekty\\\\5g_OPEN_RAN\\\\Data_long_term\\Data_selection\""
   ]
  },
  {
   "cell_type": "code",
   "execution_count": 3,
   "id": "6a5659ae-85e4-4e99-b098-b7193794c8a5",
   "metadata": {},
   "outputs": [],
   "source": [
    "all_files = os.listdir(all_data_path)\n",
    "all_files = [x for x in all_files if 'pbchSymbols' in x]"
   ]
  },
  {
   "cell_type": "code",
   "execution_count": 4,
   "id": "eb88e511-f298-49db-94ca-1ef3e7708996",
   "metadata": {},
   "outputs": [],
   "source": [
    "def file_open(path):\n",
    "    file = scipy.io.loadmat(path)\n",
    "    return file['outputData']['rxGridSSBurst'][0][0]"
   ]
  },
  {
   "cell_type": "code",
   "execution_count": 7,
   "id": "96a5a313-6f49-492f-9f25-c654fb051cf5",
   "metadata": {},
   "outputs": [
    {
     "name": "stdout",
     "output_type": "stream",
     "text": [
      "Fake_Bts_PCI_466_wPA_traffic meas_22_05_2024_Fake_Bts_PCI_466_wPA_traffic_9_cellID_466_pbchSymbols.matt\r"
     ]
    }
   ],
   "source": [
    "for id_file, single_file in enumerate(all_files):\n",
    "    key_w = single_file.split('_')[4:-4]\n",
    "    key_w = ('_').join(key_w) if not key_w == [] else 'comeretial'\n",
    "    \n",
    "    original_path = os.path.join(all_data_path, single_file)\n",
    "    file = file_open(original_path)\n",
    "    \n",
    "    saving_path = os.path.join(selection_path, key_w)\n",
    "    if not os.path.exists(saving_path):\n",
    "        os.mkdir(saving_path)\n",
    "    \n",
    "    saving_path_full = os.path.join(saving_path, single_file)\n",
    "    print(key_w, single_file, end='\\r')\n",
    "    \n",
    "    np.save( saving_path_full, file)\n",
    "    "
   ]
  },
  {
   "cell_type": "code",
   "execution_count": null,
   "id": "c9112191-e336-419a-ae29-dafb65a26b60",
   "metadata": {},
   "outputs": [],
   "source": []
  }
 ],
 "metadata": {
  "kernelspec": {
   "display_name": "Python 3 (ipykernel)",
   "language": "python",
   "name": "python3"
  },
  "language_info": {
   "codemirror_mode": {
    "name": "ipython",
    "version": 3
   },
   "file_extension": ".py",
   "mimetype": "text/x-python",
   "name": "python",
   "nbconvert_exporter": "python",
   "pygments_lexer": "ipython3",
   "version": "3.10.12"
  }
 },
 "nbformat": 4,
 "nbformat_minor": 5
}
