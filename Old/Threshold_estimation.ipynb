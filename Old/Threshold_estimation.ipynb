{
 "cells": [
  {
   "cell_type": "code",
   "execution_count": 120,
   "id": "eb92c18c-3add-48d1-8e26-c55acee38182",
   "metadata": {},
   "outputs": [],
   "source": [
    "import torch\n",
    "import torch.nn as nn\n",
    "import os\n",
    "from scripts.models.autoencoder_cnn import CNNAutoencoder\n",
    "from torch.utils.data import Dataset, DataLoader\n",
    "from scripts.dataset_template import DatasetTemplate\n",
    "import numpy as np\n",
    "import matplotlib.pyplot as plt"
   ]
  },
  {
   "cell_type": "code",
   "execution_count": 121,
   "id": "869c772f-d062-48d4-a1bd-30bdcf8f91a3",
   "metadata": {},
   "outputs": [
    {
     "name": "stdout",
     "output_type": "stream",
     "text": [
      "Device: cuda\n"
     ]
    }
   ],
   "source": [
    "#check if cuda available\n",
    "\n",
    "device = \"cuda\" if torch.cuda.is_available() else \"cpu\"\n",
    "print(f\"Device: {device}\")"
   ]
  },
  {
   "cell_type": "code",
   "execution_count": 122,
   "id": "96a02f8a-1ab2-4140-8cc1-670150d4b641",
   "metadata": {},
   "outputs": [],
   "source": [
    "#paths\n",
    "path_data_main = \"Data_abs_only\"\n",
    "\n",
    "data_train_path = f\"/home/bolci/Documents/Projekty/5G_OPEN_RAN/Anomaly_detection/5G_Open_RAN/{path_data_main}/Data_channels/train/comeretial\"\n",
    "data_test_folder_path = f\"/home/bolci/Documents/Projekty/5G_OPEN_RAN/Anomaly_detection/5G_Open_RAN/{path_data_main}/Data_channels/test\"\n",
    "data_valid_folder_path = f\"/home/bolci/Documents/Projekty/5G_OPEN_RAN/Anomaly_detection/5G_Open_RAN/{path_data_main}/Data_channels/valid\"\n",
    "\n",
    "testing_folders = os.listdir(data_test_folder_path)\n",
    "valid_folders = os.listdir(data_valid_folder_path)"
   ]
  },
  {
   "cell_type": "code",
   "execution_count": 123,
   "id": "a33e9038-4f94-4531-b5d8-4a3661d91248",
   "metadata": {},
   "outputs": [],
   "source": [
    "batch_size = 1"
   ]
  },
  {
   "cell_type": "code",
   "execution_count": 124,
   "id": "68d953cd-3a72-4e54-b570-79c711dfd2db",
   "metadata": {},
   "outputs": [
    {
     "data": {
      "text/plain": [
       "'results_batch-size=16_learning-rate=1e-05'"
      ]
     },
     "execution_count": 124,
     "metadata": {},
     "output_type": "execute_result"
    }
   ],
   "source": [
    "all_folders[0]"
   ]
  },
  {
   "cell_type": "code",
   "execution_count": 125,
   "id": "f95dc924-27d2-4005-b2d9-39fc706abfdf",
   "metadata": {},
   "outputs": [],
   "source": [
    "valid_datasets = {}\n",
    "valid_dataloaders = {}\n",
    "        \n",
    "for valid_folder_name in valid_folders:\n",
    "    valid_folder_path_all = os.path.join(data_valid_folder_path, valid_folder_name)\n",
    "    valid_datasets[valid_folder_name] = DatasetTemplate(valid_folder_path_all, 1)\n",
    "    valid_dataloaders[valid_folder_name] = DataLoader(valid_datasets[valid_folder_name], batch_size=batch_size, shuffle=True)\n",
    "\n",
    "#test\n",
    "test_datasets = {}\n",
    "test_dataloaders = {}\n",
    "\n",
    "for test_folder_name in testing_folders:\n",
    "    test_folder_path_all = os.path.join(data_test_folder_path, test_folder_name)\n",
    "    test_datasets[test_folder_name] = DatasetTemplate(test_folder_path_all, 1)\n",
    "    test_dataloaders[test_folder_name] = DataLoader(test_datasets[test_folder_name], batch_size=batch_size, shuffle=True)\n"
   ]
  },
  {
   "cell_type": "code",
   "execution_count": 126,
   "id": "ed999def-20a4-42fc-97fd-421c9e787406",
   "metadata": {},
   "outputs": [],
   "source": [
    "def valid_data(data_loader, model, loss):\n",
    "    losses = []\n",
    "    with torch.no_grad():\n",
    "        for x,y in data_loader:\n",
    "            pred = model(x.to(device))\n",
    "            test_loss = loss(pred, y.to(device)).item()\n",
    "\n",
    "            losses.append(test_loss)\n",
    "\n",
    "    return np.asarray(losses)\n",
    "\n",
    "\n",
    "def check_threshold(data_loader_true, data_loader_false, model, criteria, threshols_range = range(1,30), koeficient = 0.001):\n",
    "    losses_true = valid_data(data_loader_true, model, criteria)\n",
    "    losses_false = valid_data(data_loader_false, model, criteria)\n",
    "\n",
    "    \n",
    "    no_samples_true = len(losses_true)\n",
    "    no_samples_false = len(losses_false)\n",
    "    print(no_samples_true)\n",
    "    print(no_samples_false)\n",
    "\n",
    "    thresholds = []\n",
    "    all_accuracy_false = []\n",
    "    all_accuracy_true = []\n",
    "    all_accuracy_all = []\n",
    "\n",
    "    for single_threshold in threshols_range:\n",
    "        threshold_all = single_threshold*koeficient\n",
    "\n",
    "        all_true = np.where(losses_true > threshold_all)\n",
    "        all_false = np.where(losses_false < threshold_all)\n",
    "\n",
    "        no_true = len(all_true[0])\n",
    "        no_false = len(all_false[0])\n",
    "        \n",
    "\n",
    "        accuracy_true = (no_true)/no_samples_true\n",
    "        accuracy_false = (no_false)/no_samples_false\n",
    "        accuracy_all = (no_true + no_false)/(no_samples_true + no_samples_false)\n",
    "        \n",
    "        thresholds.append(threshold_all)\n",
    "        all_accuracy_true.append(accuracy_true)\n",
    "        all_accuracy_false.append(accuracy_false)\n",
    "        all_accuracy_all.append(accuracy_all)\n",
    "\n",
    "    return thresholds, all_accuracy_true, all_accuracy_false, all_accuracy_all\n",
    "\n"
   ]
  },
  {
   "cell_type": "code",
   "execution_count": 128,
   "id": "b039b5c9-c294-420f-b558-9ed45d12ba6c",
   "metadata": {},
   "outputs": [],
   "source": [
    "path = '/home/bolci/Documents/Projekty/5G_OPEN_RAN/Anomaly_detection/5G_Open_RAN/scripts/Results_norm/'"
   ]
  },
  {
   "cell_type": "code",
   "execution_count": 130,
   "id": "b16b7ec6-59a2-4305-9b64-6f5e71808337",
   "metadata": {},
   "outputs": [
    {
     "name": "stdout",
     "output_type": "stream",
     "text": [
      "800\n",
      "888\n"
     ]
    },
    {
     "data": {
      "image/png": "[encoded data removed]",
      "text/plain": [
       "<Figure size 640x480 with 1 Axes>"
      ]
     },
     "metadata": {},
     "output_type": "display_data"
    }
   ],
   "source": [
    "for single_folder in all_folders:\n",
    "    single_path_full = os.path.join(path, single_folder, 'model.pt')\n",
    "\n",
    "    model = CNNAutoencoder().to(device)\n",
    "    model.load_state_dict(torch.load(single_path_full, weights_only=True))\n",
    "    model.eval()\n",
    "    criterion = nn.MSELoss()\n",
    "    loss_RMS = lambda x,y: torch.sqrt(criterion(x, y))\n",
    "    \n",
    "    measured_threshold = check_threshold(valid_dataloaders['Fake_Bts_PCI_466'], valid_dataloaders['Fake_Bts_PCI_466_wPA'], model, loss_RMS)\n",
    "\n",
    "    plt.figure()\n",
    "    plt.plot(measured_threshold[0], measured_threshold[1])\n",
    "    plt.plot(measured_threshold[0], measured_threshold[2])\n",
    "    plt.plot(measured_threshold[0], measured_threshold[3])\n",
    "    break\n",
    "\n",
    "    "
   ]
  },
  {
   "cell_type": "code",
   "execution_count": 49,
   "id": "df81fc85-feea-4460-ade4-f13174a1daf6",
   "metadata": {},
   "outputs": [
    {
     "data": {
      "text/plain": [
       "{'Fake_Bts_PCI_466_wPA': <torch.utils.data.dataloader.DataLoader at 0x7b3b53eea260>,\n",
       " 'Fake_Bts_PCI_466': <torch.utils.data.dataloader.DataLoader at 0x7b3b53fa9d50>}"
      ]
     },
     "execution_count": 49,
     "metadata": {},
     "output_type": "execute_result"
    }
   ],
   "source": [
    "valid_dataloaders"
   ]
  },
  {
   "cell_type": "code",
   "execution_count": null,
   "id": "4e4b1f78-a14e-4d78-ba07-bb6077f02ae1",
   "metadata": {},
   "outputs": [],
   "source": []
  }
 ],
 "metadata": {
  "kernelspec": {
   "display_name": "Python 3 (ipykernel)",
   "language": "python",
   "name": "python3"
  },
  "language_info": {
   "codemirror_mode": {
    "name": "ipython",
    "version": 3
   },
   "file_extension": ".py",
   "mimetype": "text/x-python",
   "name": "python",
   "nbconvert_exporter": "python",
   "pygments_lexer": "ipython3",
   "version": "3.10.12"
  }
 },
 "nbformat": 4,
 "nbformat_minor": 5
}
